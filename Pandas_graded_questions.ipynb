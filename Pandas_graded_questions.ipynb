{
 "cells": [
  {
   "cell_type": "code",
   "execution_count": 2,
   "metadata": {},
   "outputs": [],
   "source": [
    "import numpy as np\n",
    "import pandas as pd"
   ]
  },
  {
   "cell_type": "code",
   "execution_count": 3,
   "metadata": {},
   "outputs": [
    {
     "data": {
      "text/html": [
       "<div>\n",
       "<style scoped>\n",
       "    .dataframe tbody tr th:only-of-type {\n",
       "        vertical-align: middle;\n",
       "    }\n",
       "\n",
       "    .dataframe tbody tr th {\n",
       "        vertical-align: top;\n",
       "    }\n",
       "\n",
       "    .dataframe thead th {\n",
       "        text-align: right;\n",
       "    }\n",
       "</style>\n",
       "<table border=\"1\" class=\"dataframe\">\n",
       "  <thead>\n",
       "    <tr style=\"text-align: right;\">\n",
       "      <th></th>\n",
       "      <th>Order ID</th>\n",
       "      <th>Product Name</th>\n",
       "      <th>Discount</th>\n",
       "      <th>Sales</th>\n",
       "      <th>Profit</th>\n",
       "      <th>Quantity</th>\n",
       "      <th>Category</th>\n",
       "      <th>Sub-Category</th>\n",
       "    </tr>\n",
       "  </thead>\n",
       "  <tbody>\n",
       "    <tr>\n",
       "      <th>0</th>\n",
       "      <td>AZ-2011-1902971</td>\n",
       "      <td>Wilson Jones Binding Machine, Clear</td>\n",
       "      <td>0.0</td>\n",
       "      <td>339</td>\n",
       "      <td>102</td>\n",
       "      <td>7</td>\n",
       "      <td>Office Supplies</td>\n",
       "      <td>Binders</td>\n",
       "    </tr>\n",
       "    <tr>\n",
       "      <th>1</th>\n",
       "      <td>AZ-2011-1916360</td>\n",
       "      <td>Dania 3-Shelf Cabinet, Mobile</td>\n",
       "      <td>0.0</td>\n",
       "      <td>288</td>\n",
       "      <td>20</td>\n",
       "      <td>2</td>\n",
       "      <td>Furniture</td>\n",
       "      <td>Bookcases</td>\n",
       "    </tr>\n",
       "    <tr>\n",
       "      <th>2</th>\n",
       "      <td>AZ-2011-1916555</td>\n",
       "      <td>Eldon Folders, Single Width</td>\n",
       "      <td>0.4</td>\n",
       "      <td>61</td>\n",
       "      <td>7</td>\n",
       "      <td>6</td>\n",
       "      <td>Office Supplies</td>\n",
       "      <td>Storage</td>\n",
       "    </tr>\n",
       "    <tr>\n",
       "      <th>3</th>\n",
       "      <td>AZ-2011-1930058</td>\n",
       "      <td>Sanford Markers, Easy-Erase</td>\n",
       "      <td>0.0</td>\n",
       "      <td>71</td>\n",
       "      <td>1</td>\n",
       "      <td>3</td>\n",
       "      <td>Office Supplies</td>\n",
       "      <td>Art</td>\n",
       "    </tr>\n",
       "    <tr>\n",
       "      <th>4</th>\n",
       "      <td>AZ-2011-1967754</td>\n",
       "      <td>Logitech Numeric Keypad, USB</td>\n",
       "      <td>0.0</td>\n",
       "      <td>93</td>\n",
       "      <td>40</td>\n",
       "      <td>2</td>\n",
       "      <td>Technology</td>\n",
       "      <td>Accessories</td>\n",
       "    </tr>\n",
       "  </tbody>\n",
       "</table>\n",
       "</div>"
      ],
      "text/plain": [
       "          Order ID                         Product Name  Discount  Sales  \\\n",
       "0  AZ-2011-1902971  Wilson Jones Binding Machine, Clear       0.0    339   \n",
       "1  AZ-2011-1916360        Dania 3-Shelf Cabinet, Mobile       0.0    288   \n",
       "2  AZ-2011-1916555          Eldon Folders, Single Width       0.4     61   \n",
       "3  AZ-2011-1930058          Sanford Markers, Easy-Erase       0.0     71   \n",
       "4  AZ-2011-1967754         Logitech Numeric Keypad, USB       0.0     93   \n",
       "\n",
       "   Profit  Quantity         Category Sub-Category  \n",
       "0     102         7  Office Supplies      Binders  \n",
       "1      20         2        Furniture    Bookcases  \n",
       "2       7         6  Office Supplies      Storage  \n",
       "3       1         3  Office Supplies          Art  \n",
       "4      40         2       Technology  Accessories  "
      ]
     },
     "execution_count": 3,
     "metadata": {},
     "output_type": "execute_result"
    }
   ],
   "source": [
    "Megamart_sales=pd.read_csv(r\"C:\\Users\\Manoj Raj S\\Downloads\\Megamart_sales.csv\")\n",
    "Megamart_newsales=pd.read_csv(r\"C:\\Users\\Manoj Raj S\\Downloads\\Megamart_newsales.csv\")\n",
    "Megamart_newsales.head()"
   ]
  },
  {
   "cell_type": "code",
   "execution_count": 6,
   "metadata": {},
   "outputs": [
    {
     "data": {
      "text/plain": [
       "(9, 8)"
      ]
     },
     "execution_count": 6,
     "metadata": {},
     "output_type": "execute_result"
    }
   ],
   "source": [
    "Megamart_newsales.shape"
   ]
  },
  {
   "cell_type": "code",
   "execution_count": 8,
   "metadata": {
    "scrolled": true
   },
   "outputs": [
    {
     "data": {
      "text/html": [
       "<div>\n",
       "<style scoped>\n",
       "    .dataframe tbody tr th:only-of-type {\n",
       "        vertical-align: middle;\n",
       "    }\n",
       "\n",
       "    .dataframe tbody tr th {\n",
       "        vertical-align: top;\n",
       "    }\n",
       "\n",
       "    .dataframe thead th {\n",
       "        text-align: right;\n",
       "    }\n",
       "</style>\n",
       "<table border=\"1\" class=\"dataframe\">\n",
       "  <thead>\n",
       "    <tr style=\"text-align: right;\">\n",
       "      <th></th>\n",
       "      <th>Order ID</th>\n",
       "      <th>Product Name</th>\n",
       "      <th>Discount</th>\n",
       "      <th>Sales</th>\n",
       "      <th>Profit</th>\n",
       "      <th>Quantity</th>\n",
       "      <th>Category</th>\n",
       "      <th>Sub-Category</th>\n",
       "    </tr>\n",
       "  </thead>\n",
       "  <tbody>\n",
       "    <tr>\n",
       "      <th>0</th>\n",
       "      <td>AZ-2011-1029887</td>\n",
       "      <td>Novimex Color Coded Labels, 5000 Label Set</td>\n",
       "      <td>0.0</td>\n",
       "      <td>26</td>\n",
       "      <td>7</td>\n",
       "      <td>2</td>\n",
       "      <td>Office Supplies</td>\n",
       "      <td>Labels</td>\n",
       "    </tr>\n",
       "    <tr>\n",
       "      <th>1</th>\n",
       "      <td>AZ-2011-107716</td>\n",
       "      <td>Deflect-O Door Stop, Erganomic</td>\n",
       "      <td>0.0</td>\n",
       "      <td>85</td>\n",
       "      <td>15</td>\n",
       "      <td>2</td>\n",
       "      <td>Furniture</td>\n",
       "      <td>Furnishings</td>\n",
       "    </tr>\n",
       "    <tr>\n",
       "      <th>2</th>\n",
       "      <td>AZ-2011-1087704</td>\n",
       "      <td>Belkin Flash Drive, Bluetooth</td>\n",
       "      <td>0.0</td>\n",
       "      <td>294</td>\n",
       "      <td>109</td>\n",
       "      <td>7</td>\n",
       "      <td>Technology</td>\n",
       "      <td>Accessories</td>\n",
       "    </tr>\n",
       "    <tr>\n",
       "      <th>3</th>\n",
       "      <td>AZ-2011-1372644</td>\n",
       "      <td>Panasonic Printer, Durable</td>\n",
       "      <td>0.0</td>\n",
       "      <td>800</td>\n",
       "      <td>168</td>\n",
       "      <td>3</td>\n",
       "      <td>Technology</td>\n",
       "      <td>Machines</td>\n",
       "    </tr>\n",
       "    <tr>\n",
       "      <th>4</th>\n",
       "      <td>AZ-2011-1362199</td>\n",
       "      <td>Sanford Pens, Fluorescent</td>\n",
       "      <td>0.5</td>\n",
       "      <td>25</td>\n",
       "      <td>-11</td>\n",
       "      <td>4</td>\n",
       "      <td>Office Supplies</td>\n",
       "      <td>Art</td>\n",
       "    </tr>\n",
       "  </tbody>\n",
       "</table>\n",
       "</div>"
      ],
      "text/plain": [
       "          Order ID                                Product Name  Discount  \\\n",
       "0  AZ-2011-1029887  Novimex Color Coded Labels, 5000 Label Set       0.0   \n",
       "1   AZ-2011-107716              Deflect-O Door Stop, Erganomic       0.0   \n",
       "2  AZ-2011-1087704               Belkin Flash Drive, Bluetooth       0.0   \n",
       "3  AZ-2011-1372644                  Panasonic Printer, Durable       0.0   \n",
       "4  AZ-2011-1362199                   Sanford Pens, Fluorescent       0.5   \n",
       "\n",
       "   Sales  Profit  Quantity         Category Sub-Category  \n",
       "0     26       7         2  Office Supplies       Labels  \n",
       "1     85      15         2        Furniture  Furnishings  \n",
       "2    294     109         7       Technology  Accessories  \n",
       "3    800     168         3       Technology     Machines  \n",
       "4     25     -11         4  Office Supplies          Art  "
      ]
     },
     "execution_count": 8,
     "metadata": {},
     "output_type": "execute_result"
    }
   ],
   "source": [
    "df_new=pd.concat([Megamart_sales,Megamart_newsales])\n",
    "df_new.head()"
   ]
  },
  {
   "cell_type": "markdown",
   "metadata": {},
   "source": [
    "\n"
   ]
  },
  {
   "cell_type": "markdown",
   "metadata": {},
   "source": [
    "#### Combining two data frames\n",
    "Question 1: Some of the orders are stored in another csv file named `megamart_new sales`. Read the csv file, store it in a data frame and add it to the `megamart_sales` data frame. Find the total sales value of the category 'Office Supplies'  after combining the dataframes\n",
    "\n",
    "    a)7970\n",
    "    b)6964\n",
    "    c)7494\n",
    "    d)6076"
   ]
  },
  {
   "cell_type": "code",
   "execution_count": 11,
   "metadata": {},
   "outputs": [
    {
     "data": {
      "text/plain": [
       "Category\n",
       "Furniture          2460\n",
       "Office Supplies    7970\n",
       "Technology         8588\n",
       "Name: Sales, dtype: int64"
      ]
     },
     "execution_count": 11,
     "metadata": {},
     "output_type": "execute_result"
    }
   ],
   "source": [
    "#your code here\n",
    "df_new.groupby(by=\"Category\").Sales.sum()"
   ]
  },
  {
   "cell_type": "markdown",
   "metadata": {},
   "source": [
    "#### Dropping duplicates\n",
    "Question 2: There are some duplicate rows in the data frame. Drop these rows and calculate the total sales value of the category Office Supplies.\n",
    "\n",
    "    a)7156\n",
    "    b)6496\n",
    "    c)6964\n",
    "    d)6023"
   ]
  },
  {
   "cell_type": "code",
   "execution_count": 109,
   "metadata": {},
   "outputs": [
    {
     "data": {
      "text/plain": [
       "Category\n",
       "Furniture          2460\n",
       "Office Supplies    6964\n",
       "Technology         7494\n",
       "Name: Sales, dtype: int64"
      ]
     },
     "execution_count": 109,
     "metadata": {},
     "output_type": "execute_result"
    }
   ],
   "source": [
    "#your code here\n",
    "\n",
    "df_new.drop_duplicates(inplace=True)\n",
    "df_new.groupby(by=\"Category\").Sales.sum()"
   ]
  },
  {
   "cell_type": "markdown",
   "metadata": {},
   "source": [
    "#### Best category-sub category \n",
    "Question 3: Find the most profitable category and sub category combination based on the net profit.\n",
    "\n",
    "\n",
    "    a)Furniture-Bookcases\n",
    "    b)Office supplies-Appliances\n",
    "    c)Office supplies-Storage\n",
    "    d)Technology-Phones"
   ]
  },
  {
   "cell_type": "code",
   "execution_count": 13,
   "metadata": {},
   "outputs": [
    {
     "data": {
      "text/plain": [
       "Category         Sub-Category\n",
       "Furniture        Bookcases        308\n",
       "                 Chairs           -49\n",
       "                 Furnishings       74\n",
       "Office Supplies  Appliances       229\n",
       "                 Art              283\n",
       "                 Binders          158\n",
       "                 Envelopes         35\n",
       "                 Fasteners         10\n",
       "                 Labels            30\n",
       "                 Paper             15\n",
       "                 Storage          475\n",
       "                 Supplies         103\n",
       "Technology       Accessories      324\n",
       "                 Copiers            0\n",
       "                 Machines         336\n",
       "                 Phones          1618\n",
       "Name: Profit, dtype: int64"
      ]
     },
     "execution_count": 13,
     "metadata": {},
     "output_type": "execute_result"
    }
   ],
   "source": [
    "#your code here\n",
    "df_new.groupby(by=[\"Category\",\"Sub-Category\"]).Profit.sum()"
   ]
  },
  {
   "cell_type": "markdown",
   "metadata": {},
   "source": [
    "#### Invalid order IDs\n",
    "Question 4: How many invalid order IDs are there in the data frame. An order id is of the form AZ-2011-Y where Y represents a whole number. A Order ID is said to be valid only if Y consists of 7 digits. Find the number of valid order order IDs in the data frame.\n",
    "    \n",
    "    a)6\n",
    "    b)7\n",
    "    c)8\n",
    "    d)9\n"
   ]
  },
  {
   "cell_type": "code",
   "execution_count": 91,
   "metadata": {},
   "outputs": [
    {
     "name": "stdout",
     "output_type": "stream",
     "text": [
      "7\n"
     ]
    }
   ],
   "source": [
    "#your code here\n",
    "\n",
    "s=df_new[\"Order ID\"]\n",
    "\n",
    "count = 0\n",
    "for i,j,k in s.str.split(\"-\"):\n",
    "#     print(len(k))\n",
    "    if len(k)!=7:\n",
    "        count+=1\n",
    "print(count)"
   ]
  },
  {
   "cell_type": "markdown",
   "metadata": {},
   "source": [
    "#### Occurence of furniture in top 25 sales\n",
    "Question 5: Find the top 25 orders based on sales value and find the number of orders which belong to furniture category.\n",
    "\n",
    "    a)2\n",
    "    b)3\n",
    "    c)4\n",
    "    d)5 "
   ]
  },
  {
   "cell_type": "code",
   "execution_count": 100,
   "metadata": {},
   "outputs": [
    {
     "data": {
      "text/plain": [
       "Office Supplies    11\n",
       "Technology          9\n",
       "Furniture           5\n",
       "Name: Category, dtype: int64"
      ]
     },
     "execution_count": 100,
     "metadata": {},
     "output_type": "execute_result"
    }
   ],
   "source": [
    "#your code here\n",
    "df_sort = df_new.sort_values(by=\"Sales\",ascending=False).head(25)\n",
    "df_sort['Category'].value_counts()"
   ]
  },
  {
   "cell_type": "code",
   "execution_count": null,
   "metadata": {},
   "outputs": [],
   "source": []
  },
  {
   "cell_type": "markdown",
   "metadata": {},
   "source": [
    "#### And operation\n",
    "Question 6: Among the orders with sales>250 and profit>50, find the product name of the fourth highest order based on sales value.\n",
    "\n",
    "    a)Motorola Headset, with Caller ID\n",
    "    b)Panasonic Printer, Durable\t\n",
    "    c)Hoover Microwave, Red\t\n",
    "    d)Fellowes Lockers, Industrial\t"
   ]
  },
  {
   "cell_type": "code",
   "execution_count": 103,
   "metadata": {},
   "outputs": [
    {
     "data": {
      "text/html": [
       "<div>\n",
       "<style scoped>\n",
       "    .dataframe tbody tr th:only-of-type {\n",
       "        vertical-align: middle;\n",
       "    }\n",
       "\n",
       "    .dataframe tbody tr th {\n",
       "        vertical-align: top;\n",
       "    }\n",
       "\n",
       "    .dataframe thead th {\n",
       "        text-align: right;\n",
       "    }\n",
       "</style>\n",
       "<table border=\"1\" class=\"dataframe\">\n",
       "  <thead>\n",
       "    <tr style=\"text-align: right;\">\n",
       "      <th></th>\n",
       "      <th>Order ID</th>\n",
       "      <th>Product Name</th>\n",
       "      <th>Discount</th>\n",
       "      <th>Sales</th>\n",
       "      <th>Profit</th>\n",
       "      <th>Quantity</th>\n",
       "      <th>Category</th>\n",
       "      <th>Sub-Category</th>\n",
       "    </tr>\n",
       "  </thead>\n",
       "  <tbody>\n",
       "    <tr>\n",
       "      <th>30</th>\n",
       "      <td>AZ-2011-1410648</td>\n",
       "      <td>Nokia Smart Phone, Full Size</td>\n",
       "      <td>0.0</td>\n",
       "      <td>1908</td>\n",
       "      <td>820</td>\n",
       "      <td>3</td>\n",
       "      <td>Technology</td>\n",
       "      <td>Phones</td>\n",
       "    </tr>\n",
       "    <tr>\n",
       "      <th>58</th>\n",
       "      <td>AZ-2011-176674</td>\n",
       "      <td>Hoover Microwave, Red</td>\n",
       "      <td>0.1</td>\n",
       "      <td>1667</td>\n",
       "      <td>185</td>\n",
       "      <td>6</td>\n",
       "      <td>Office Supplies</td>\n",
       "      <td>Appliances</td>\n",
       "    </tr>\n",
       "    <tr>\n",
       "      <th>8</th>\n",
       "      <td>AZ-2011-1174243</td>\n",
       "      <td>Nokia Audio Dock, with Caller ID</td>\n",
       "      <td>0.0</td>\n",
       "      <td>1334</td>\n",
       "      <td>200</td>\n",
       "      <td>8</td>\n",
       "      <td>Technology</td>\n",
       "      <td>Phones</td>\n",
       "    </tr>\n",
       "    <tr>\n",
       "      <th>20</th>\n",
       "      <td>AZ-2011-1322840</td>\n",
       "      <td>Motorola Headset, with Caller ID</td>\n",
       "      <td>0.0</td>\n",
       "      <td>957</td>\n",
       "      <td>316</td>\n",
       "      <td>12</td>\n",
       "      <td>Technology</td>\n",
       "      <td>Phones</td>\n",
       "    </tr>\n",
       "    <tr>\n",
       "      <th>3</th>\n",
       "      <td>AZ-2011-1372644</td>\n",
       "      <td>Panasonic Printer, Durable</td>\n",
       "      <td>0.0</td>\n",
       "      <td>800</td>\n",
       "      <td>168</td>\n",
       "      <td>3</td>\n",
       "      <td>Technology</td>\n",
       "      <td>Machines</td>\n",
       "    </tr>\n",
       "  </tbody>\n",
       "</table>\n",
       "</div>"
      ],
      "text/plain": [
       "           Order ID                      Product Name  Discount  Sales  \\\n",
       "30  AZ-2011-1410648      Nokia Smart Phone, Full Size       0.0   1908   \n",
       "58   AZ-2011-176674             Hoover Microwave, Red       0.1   1667   \n",
       "8   AZ-2011-1174243  Nokia Audio Dock, with Caller ID       0.0   1334   \n",
       "20  AZ-2011-1322840  Motorola Headset, with Caller ID       0.0    957   \n",
       "3   AZ-2011-1372644        Panasonic Printer, Durable       0.0    800   \n",
       "\n",
       "    Profit  Quantity         Category Sub-Category  \n",
       "30     820         3       Technology       Phones  \n",
       "58     185         6  Office Supplies   Appliances  \n",
       "8      200         8       Technology       Phones  \n",
       "20     316        12       Technology       Phones  \n",
       "3      168         3       Technology     Machines  "
      ]
     },
     "execution_count": 103,
     "metadata": {},
     "output_type": "execute_result"
    }
   ],
   "source": [
    "#your code here\n",
    "df_sales = df_new[(df_new[\"Sales\"]>250) & (df_new[\"Profit\"]>50)]\n",
    "df_sales.sort_values(by=\"Sales\",ascending=False).head()"
   ]
  },
  {
   "cell_type": "markdown",
   "metadata": {},
   "source": [
    "#### Column manipulation\n",
    "Question 7: Remove the orders with negative profit by dropping the corresponding rows with negative `Profit`. Find the product that makes the lowest profit per Quantity in the Technology category.\n",
    "\n",
    "    a) Nokia Audio Dock, with Caller ID\n",
    "    b) Logitech Keyboard, Programmable\n",
    "    c) Motorola Headset, with Caller ID\n",
    "    d) Belkin Flash Drive, Bluetooth"
   ]
  },
  {
   "cell_type": "code",
   "execution_count": 118,
   "metadata": {},
   "outputs": [
    {
     "name": "stderr",
     "output_type": "stream",
     "text": [
      "C:\\Users\\Manoj Raj S\\AppData\\Local\\Temp\\ipykernel_1336\\1381791798.py:4: SettingWithCopyWarning: \n",
      "A value is trying to be set on a copy of a slice from a DataFrame.\n",
      "Try using .loc[row_indexer,col_indexer] = value instead\n",
      "\n",
      "See the caveats in the documentation: https://pandas.pydata.org/pandas-docs/stable/user_guide/indexing.html#returning-a-view-versus-a-copy\n",
      "  dfpp[\"pp\"] = dfpp.Profit/dfpp.Quantity\n"
     ]
    },
    {
     "data": {
      "text/html": [
       "<div>\n",
       "<style scoped>\n",
       "    .dataframe tbody tr th:only-of-type {\n",
       "        vertical-align: middle;\n",
       "    }\n",
       "\n",
       "    .dataframe tbody tr th {\n",
       "        vertical-align: top;\n",
       "    }\n",
       "\n",
       "    .dataframe thead th {\n",
       "        text-align: right;\n",
       "    }\n",
       "</style>\n",
       "<table border=\"1\" class=\"dataframe\">\n",
       "  <thead>\n",
       "    <tr style=\"text-align: right;\">\n",
       "      <th></th>\n",
       "      <th>Order ID</th>\n",
       "      <th>Product Name</th>\n",
       "      <th>Discount</th>\n",
       "      <th>Sales</th>\n",
       "      <th>Profit</th>\n",
       "      <th>Quantity</th>\n",
       "      <th>Category</th>\n",
       "      <th>Sub-Category</th>\n",
       "      <th>pp</th>\n",
       "    </tr>\n",
       "  </thead>\n",
       "  <tbody>\n",
       "    <tr>\n",
       "      <th>39</th>\n",
       "      <td>AZ-2011-1536006</td>\n",
       "      <td>Logitech Keyboard, Programmable</td>\n",
       "      <td>0.0</td>\n",
       "      <td>666</td>\n",
       "      <td>66</td>\n",
       "      <td>9</td>\n",
       "      <td>Technology</td>\n",
       "      <td>Accessories</td>\n",
       "      <td>7.333333</td>\n",
       "    </tr>\n",
       "    <tr>\n",
       "      <th>2</th>\n",
       "      <td>AZ-2011-1087704</td>\n",
       "      <td>Belkin Flash Drive, Bluetooth</td>\n",
       "      <td>0.0</td>\n",
       "      <td>294</td>\n",
       "      <td>109</td>\n",
       "      <td>7</td>\n",
       "      <td>Technology</td>\n",
       "      <td>Accessories</td>\n",
       "      <td>15.571429</td>\n",
       "    </tr>\n",
       "    <tr>\n",
       "      <th>4</th>\n",
       "      <td>AZ-2011-1967754</td>\n",
       "      <td>Logitech Numeric Keypad, USB</td>\n",
       "      <td>0.0</td>\n",
       "      <td>93</td>\n",
       "      <td>40</td>\n",
       "      <td>2</td>\n",
       "      <td>Technology</td>\n",
       "      <td>Accessories</td>\n",
       "      <td>20.000000</td>\n",
       "    </tr>\n",
       "    <tr>\n",
       "      <th>8</th>\n",
       "      <td>AZ-2011-1174243</td>\n",
       "      <td>Nokia Audio Dock, with Caller ID</td>\n",
       "      <td>0.0</td>\n",
       "      <td>1334</td>\n",
       "      <td>200</td>\n",
       "      <td>8</td>\n",
       "      <td>Technology</td>\n",
       "      <td>Phones</td>\n",
       "      <td>25.000000</td>\n",
       "    </tr>\n",
       "    <tr>\n",
       "      <th>20</th>\n",
       "      <td>AZ-2011-1322840</td>\n",
       "      <td>Motorola Headset, with Caller ID</td>\n",
       "      <td>0.0</td>\n",
       "      <td>957</td>\n",
       "      <td>316</td>\n",
       "      <td>12</td>\n",
       "      <td>Technology</td>\n",
       "      <td>Phones</td>\n",
       "      <td>26.333333</td>\n",
       "    </tr>\n",
       "  </tbody>\n",
       "</table>\n",
       "</div>"
      ],
      "text/plain": [
       "           Order ID                      Product Name  Discount  Sales  \\\n",
       "39  AZ-2011-1536006   Logitech Keyboard, Programmable       0.0    666   \n",
       "2   AZ-2011-1087704     Belkin Flash Drive, Bluetooth       0.0    294   \n",
       "4   AZ-2011-1967754      Logitech Numeric Keypad, USB       0.0     93   \n",
       "8   AZ-2011-1174243  Nokia Audio Dock, with Caller ID       0.0   1334   \n",
       "20  AZ-2011-1322840  Motorola Headset, with Caller ID       0.0    957   \n",
       "\n",
       "    Profit  Quantity    Category Sub-Category         pp  \n",
       "39      66         9  Technology  Accessories   7.333333  \n",
       "2      109         7  Technology  Accessories  15.571429  \n",
       "4       40         2  Technology  Accessories  20.000000  \n",
       "8      200         8  Technology       Phones  25.000000  \n",
       "20     316        12  Technology       Phones  26.333333  "
      ]
     },
     "execution_count": 118,
     "metadata": {},
     "output_type": "execute_result"
    }
   ],
   "source": [
    "#your code here\n",
    "\n",
    "dfpp=df_new[(df_new.Profit>0) & (df_new.Category==\"Technology\")]\n",
    "dfpp[\"pp\"] = dfpp.Profit/dfpp.Quantity\n",
    "dfpp.sort_values(by=\"pp\").head()"
   ]
  },
  {
   "cell_type": "code",
   "execution_count": null,
   "metadata": {},
   "outputs": [],
   "source": []
  }
 ],
 "metadata": {
  "kernelspec": {
   "display_name": "Python 3 (ipykernel)",
   "language": "python",
   "name": "python3"
  },
  "language_info": {
   "codemirror_mode": {
    "name": "ipython",
    "version": 3
   },
   "file_extension": ".py",
   "mimetype": "text/x-python",
   "name": "python",
   "nbconvert_exporter": "python",
   "pygments_lexer": "ipython3",
   "version": "3.10.9"
  }
 },
 "nbformat": 4,
 "nbformat_minor": 2
}
